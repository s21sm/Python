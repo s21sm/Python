{
  "nbformat": 4,
  "nbformat_minor": 0,
  "metadata": {
    "colab": {
      "name": "Convolutional Neural Network.ipynb",
      "provenance": [],
      "collapsed_sections": [],
      "authorship_tag": "ABX9TyMz1wiAzhdRO+SvbASF+QLY",
      "include_colab_link": true
    },
    "kernelspec": {
      "name": "python3",
      "display_name": "Python 3"
    }
  },
  "cells": [
    {
      "cell_type": "markdown",
      "metadata": {
        "id": "view-in-github",
        "colab_type": "text"
      },
      "source": [
        "<a href=\"https://colab.research.google.com/github/s21sm/Python/blob/master/Convolutional_Neural_Network.ipynb\" target=\"_parent\"><img src=\"https://colab.research.google.com/assets/colab-badge.svg\" alt=\"Open In Colab\"/></a>"
      ]
    },
    {
      "cell_type": "code",
      "metadata": {
        "id": "b4uVnZyR_9CU",
        "colab_type": "code",
        "colab": {}
      },
      "source": [
        "# To import needed dependencies \n",
        "\n",
        "import io\n",
        "from scipy.spatial import distance\n",
        "import pandas as pd\n",
        "import numpy as np\n",
        "from google.colab import files\n",
        "import matplotlib.pyplot as plt\n",
        "import tensorflow as tf\n",
        "from scipy.spatial import distance"
      ],
      "execution_count": 0,
      "outputs": []
    },
    {
      "cell_type": "code",
      "metadata": {
        "id": "9u5z-_V7AB23",
        "colab_type": "code",
        "colab": {}
      },
      "source": [
        "# upload files\n",
        "\n",
        "uploaded = files.upload()"
      ],
      "execution_count": 0,
      "outputs": []
    },
    {
      "cell_type": "code",
      "metadata": {
        "id": "7Byb4qYGAEAt",
        "colab_type": "code",
        "colab": {}
      },
      "source": [
        "# if needed the file can be collected from\n",
        "\n",
        "train_rss = np.genfromtxt ('Training_rss_21Aug17.csv', delimiter=\",\")\n",
        "test_rss = np.genfromtxt ('Test_rss_21Aug17.csv', delimiter=\",\")\n",
        "train_coordinate = np.genfromtxt ('Training_coordinates_21Aug17.csv', delimiter=\",\")\n",
        "test_coordinate = np.genfromtxt ('Test_coordinates_21Aug17.csv', delimiter=\",\")"
      ],
      "execution_count": 0,
      "outputs": []
    },
    {
      "cell_type": "code",
      "metadata": {
        "id": "SaM3gSw4TnNr",
        "colab_type": "code",
        "colab": {}
      },
      "source": [
        "# For training data : changing the initial RSS value 100 to -103\n",
        "for i in range(train_rss.shape[0]): \n",
        " for j in range(train_rss.shape[1]):\n",
        "  if train_rss[i,j] == 100:\n",
        "    train_rss[i,j] = -103\n",
        "\n",
        "# scaling into 0 to 1\n",
        "for i in range(train_rss.shape[0]): \n",
        " for j in range(train_rss.shape[1]):\n",
        "   train_rss[i,j] = (train_rss[i,j] + 103) / 103\n",
        "\n",
        "# For test data : changing the initial RSS value 100 to -103\n",
        "for i in range(test_rss.shape[0]): \n",
        " for j in range(test_rss.shape[1]):\n",
        "  if test_rss[i,j] == 100:\n",
        "    test_rss[i,j] = -103\n",
        "\n",
        "# scaling into 0 to 1\n",
        "for i in range(test_rss.shape[0]): \n",
        " for j in range(test_rss.shape[1]):\n",
        "   test_rss[i,j] = (test_rss[i,j] + 103) / 103"
      ],
      "execution_count": 0,
      "outputs": []
    },
    {
      "cell_type": "code",
      "metadata": {
        "id": "1xd6DH20CBSo",
        "colab_type": "code",
        "colab": {}
      },
      "source": [
        "# Defining data for CNN model\n",
        "\n",
        "(x_train, y_train), (x_test) = (train_rss, np.arange(697) ), (test_rss)\n",
        " "
      ],
      "execution_count": 0,
      "outputs": []
    },
    {
      "cell_type": "code",
      "metadata": {
        "id": "gyCaWpidCuO3",
        "colab_type": "code",
        "colab": {}
      },
      "source": [
        "# no need scaling, manual scalling provides better result\n",
        "x_train = tf.keras.utils.normalize (x_train, axis=1)\n",
        "x_test = tf.keras.utils.normalize (x_test, axis=1)"
      ],
      "execution_count": 0,
      "outputs": []
    },
    {
      "cell_type": "code",
      "metadata": {
        "id": "1_Dxj_TXDPmB",
        "colab_type": "code",
        "colab": {}
      },
      "source": [
        "# Modeling\n",
        "\n",
        "model = tf.keras.models.Sequential()\n",
        "model.add(tf.keras.layers.Flatten())\n",
        "model.add(tf.keras.layers.Dense(1024,activation=tf.nn.relu))\n",
        "model.add(tf.keras.layers.Dense(512,activation=tf.nn.relu))\n",
        "model.add(tf.keras.layers.Dense(128,activation=tf.nn.relu))\n",
        "model.add(tf.keras.layers.Dense(697,activation=tf.nn.softmax))\n",
        "model.compile(optimizer='adam', \n",
        "              loss='sparse_categorical_crossentropy', \n",
        "              metrics=['accuracy'])\n",
        "model.fit(x_train,y_train,epochs=20)"
      ],
      "execution_count": 0,
      "outputs": []
    },
    {
      "cell_type": "code",
      "metadata": {
        "id": "VqJiCMwIP2ii",
        "colab_type": "code",
        "colab": {}
      },
      "source": [
        "# prediction\n",
        "\n",
        "prediction = model.predict([x_test])"
      ],
      "execution_count": 0,
      "outputs": []
    },
    {
      "cell_type": "code",
      "metadata": {
        "id": "QTkceglzkKKa",
        "colab_type": "code",
        "colab": {}
      },
      "source": [
        "# calculating mean error\n",
        "\n",
        "dis = 0\n",
        "for rr in range(x_test.shape[0]):\n",
        "  estimated = train_coordinate[np.argmax(prediction[rr])]\n",
        "  real = test_coordinate[rr]\n",
        "  d = distance.euclidean(estimated, real)\n",
        "  dis = dis+d\n",
        "\n",
        "print(dis/x_test.shape[0])\n"
      ],
      "execution_count": 0,
      "outputs": []
    },
    {
      "cell_type": "code",
      "metadata": {
        "id": "V9LjkGrYvoV2",
        "colab_type": "code",
        "colab": {}
      },
      "source": [
        ""
      ],
      "execution_count": 0,
      "outputs": []
    }
  ]
}